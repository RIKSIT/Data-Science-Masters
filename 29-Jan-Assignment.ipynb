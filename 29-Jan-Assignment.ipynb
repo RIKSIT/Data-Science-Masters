{
 "cells": [
  {
   "cell_type": "markdown",
   "id": "7e2f78ac",
   "metadata": {},
   "source": [
    "1.Who developed python programming language?\n",
    "->Guido van Rossum "
   ]
  },
  {
   "cell_type": "markdown",
   "id": "f25dea46",
   "metadata": {},
   "source": [
    "2.Which type of programming does python support?\n",
    "->object-oriented programming and structured programming"
   ]
  },
  {
   "cell_type": "markdown",
   "id": "4453317c",
   "metadata": {},
   "source": [
    "3.Is python case sensitive when dealing with identifiers?\n",
    "->Yes"
   ]
  },
  {
   "cell_type": "markdown",
   "id": "4d83bad0",
   "metadata": {},
   "source": [
    "4.What is the correct extension of the python file?\n",
    "->.py,\n",
    "->.pyi\n",
    "->.pyc"
   ]
  },
  {
   "cell_type": "markdown",
   "id": "2f30c36b",
   "metadata": {},
   "source": [
    "5.Is python code compiled or interpreted?\n",
    "->Interpreted"
   ]
  },
  {
   "cell_type": "markdown",
   "id": "d828c219",
   "metadata": {},
   "source": [
    "6.Name a few blocks of code used to define in python language?\n",
    "->A Module\n",
    "->A function Body\n",
    "->A class Definition"
   ]
  },
  {
   "cell_type": "markdown",
   "id": "00f6e16c",
   "metadata": {},
   "source": [
    "7.State a character used to give single-line comments in python?\n",
    "->Single # character"
   ]
  },
  {
   "cell_type": "markdown",
   "id": "d0f230f3",
   "metadata": {},
   "source": [
    "8.Mention function which can help us to find the version of python\n",
    "  that we are currently working on?\n",
    "->sys.version"
   ]
  },
  {
   "cell_type": "markdown",
   "id": "223170e5",
   "metadata": {},
   "source": [
    "9.Python supports the creation of anonymous function at runtime,using a construct called----\n",
    "->Lambda"
   ]
  },
  {
   "cell_type": "markdown",
   "id": "8f206d8b",
   "metadata": {},
   "source": [
    "10.What does pip stand for python?\n",
    "->Preferred Installer Program"
   ]
  },
  {
   "cell_type": "markdown",
   "id": "eb489abc",
   "metadata": {},
   "source": [
    "11.Mention a few built-in functions in python?\n",
    "->Print() function\n",
    "->type() function\n",
    "->input() function\n",
    "->min() function\n",
    "->max() function\n",
    "->len() function"
   ]
  },
  {
   "cell_type": "markdown",
   "id": "7140ec5d",
   "metadata": {},
   "source": [
    "12.What is the maximum possible length of an identifier in python?\n",
    "->79 Characters"
   ]
  },
  {
   "cell_type": "markdown",
   "id": "1b48cbe2",
   "metadata": {},
   "source": [
    "13.What are the benefits of using python?\n",
    "->Python is an interpreted,object-oriented,high-level programming language with dynamic semantics.\n",
    "It used in AI,Machine learning,Data Science and Big Data."
   ]
  },
  {
   "cell_type": "markdown",
   "id": "c09c14d2",
   "metadata": {},
   "source": [
    "14.How is memory managed in python?\n",
    "->By Python memeory manager which contains all python objects and\n",
    "data structures."
   ]
  },
  {
   "cell_type": "markdown",
   "id": "d642f8db",
   "metadata": {},
   "source": [
    "15.How to install python on windows and set path variables\n",
    "->Right-click on This PC and go to properties\n",
    "->Click on the advanced system setting.\n",
    "->Now,click on Environment variables button on the bottom right.\n",
    "->In the sysyem variables section,selecting the path variables and click on edit.Now system will show all the directories that are currently a part of the path variables.\n",
    "->Click on New and enter Python's install directory."
   ]
  },
  {
   "cell_type": "markdown",
   "id": "b53cee27",
   "metadata": {},
   "source": [
    "16.Is indentation required in python?\n",
    "->Yes"
   ]
  },
  {
   "cell_type": "markdown",
   "id": "77faf90b",
   "metadata": {},
   "source": [
    "                      -----Thank You-----"
   ]
  }
 ],
 "metadata": {
  "kernelspec": {
   "display_name": "Python 3",
   "language": "python",
   "name": "python3"
  },
  "language_info": {
   "codemirror_mode": {
    "name": "ipython",
    "version": 3
   },
   "file_extension": ".py",
   "mimetype": "text/x-python",
   "name": "python",
   "nbconvert_exporter": "python",
   "pygments_lexer": "ipython3",
   "version": "3.8.8"
  }
 },
 "nbformat": 4,
 "nbformat_minor": 5
}

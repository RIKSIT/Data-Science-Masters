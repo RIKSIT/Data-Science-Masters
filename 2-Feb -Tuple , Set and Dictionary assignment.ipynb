{
 "cells": [
  {
   "cell_type": "markdown",
   "id": "98590518",
   "metadata": {},
   "source": [
    "1.What are the characteristics of the tuple?is tuple immutable?\n",
    "\n",
    "->Tuple are the ordered collection of elements of different data types.\n",
    "->we represent tuple in parenthesis seperated by commas.\n",
    "->Tuples are immutable."
   ]
  },
  {
   "cell_type": "markdown",
   "id": "c0a9431b",
   "metadata": {},
   "source": [
    "2.what re the two tuple methods in python?Give an example of each method.Give a reason why tuples have only two built-in methods as compared to lists.\n",
    "\n",
    "->Count() and index()\n",
    "\n",
    "#Example of count()\n",
    "thistuple=(1,2,3,4,5,5,7,8,5,5)\n",
    "x=thistuple.count(5)\n",
    "x\n",
    "\n",
    "#Example of index()\n",
    "thistuple1=(1,2,3,4,5,5,7,8,5,5)\n",
    "y=thistuple1.index(7)\n",
    "y\n",
    "\n",
    "->It is impossible to change the content of tuples.The contents of the tuples cannot be change once they have been created in python."
   ]
  },
  {
   "cell_type": "markdown",
   "id": "5b711849",
   "metadata": {},
   "source": [
    "3.Which collection of datatypes in python do not allow dulicate items?write a code using a set to remove duplicates from the given list?\n",
    "->Sets do not allow duplicate items beacuse sets is unordered and unindexed."
   ]
  },
  {
   "cell_type": "code",
   "execution_count": 25,
   "id": "6990644e",
   "metadata": {},
   "outputs": [
    {
     "data": {
      "text/plain": [
       "{1, 2, 3, 4}"
      ]
     },
     "execution_count": 25,
     "metadata": {},
     "output_type": "execute_result"
    }
   ],
   "source": [
    "list=[1,1,1,2,1,3,1,4,2,1,2,2,2,3,2,4,3,1,3,2,3,3,3,4,4,1,4,2,4,3,4,4]\n",
    "a=set(list)\n",
    "a"
   ]
  },
  {
   "cell_type": "markdown",
   "id": "f2de3826",
   "metadata": {},
   "source": [
    "4.Difference between union() and update() method of a set.give an example of each method.\n",
    "\n",
    "->Union-Return the union of sets as a new set.\n",
    "->Update-Update a set with the union of itself and others."
   ]
  },
  {
   "cell_type": "code",
   "execution_count": 29,
   "id": "b532c9ff",
   "metadata": {},
   "outputs": [
    {
     "data": {
      "text/plain": [
       "{1, 2, 3, 4, 5, 6, 7}"
      ]
     },
     "execution_count": 29,
     "metadata": {},
     "output_type": "execute_result"
    }
   ],
   "source": [
    "#Union Example\n",
    "a={1,2,3,4}\n",
    "b={4,5,6,7}\n",
    "a.union(b)"
   ]
  },
  {
   "cell_type": "code",
   "execution_count": 37,
   "id": "5ef92d7c",
   "metadata": {},
   "outputs": [
    {
     "data": {
      "text/plain": [
       "{'Harshit', 'Manish', 'Rajnish', 'Rixit', 'Rohit', 'Tanuj'}"
      ]
     },
     "execution_count": 37,
     "metadata": {},
     "output_type": "execute_result"
    }
   ],
   "source": [
    "#Update Example\n",
    "c={\"Rixit\",\"Rohit\",\"Harshit\"}\n",
    "d={\"Manish\",\"Tanuj\",\"Rajnish\"}\n",
    "c.update(d)\n",
    "c"
   ]
  },
  {
   "cell_type": "markdown",
   "id": "b2096367",
   "metadata": {},
   "source": [
    "5.What is dictionary?Give an example.Also,state whether a dictionary is ordered or unorderd?\n",
    "->Dictionaries are used to store data values in key:values pairs.\n",
    "->Dictionary is ordered(python 3.7),changable and do not allow duplicates."
   ]
  },
  {
   "cell_type": "code",
   "execution_count": 39,
   "id": "75333f2e",
   "metadata": {},
   "outputs": [
    {
     "data": {
      "text/plain": [
       "{'Name': 'Rikshit',\n",
       " 'Batch': 'Data Science Masters',\n",
       " 'Batch_Date': '30 January'}"
      ]
     },
     "execution_count": 39,
     "metadata": {},
     "output_type": "execute_result"
    }
   ],
   "source": [
    "#Example of dictionary\n",
    "a={\"Name\":\"Rikshit\",\n",
    "   \"Batch\":\"Data Science Masters\",\n",
    "   \"Batch_Date\":\"30 January\"}\n",
    "a"
   ]
  },
  {
   "cell_type": "markdown",
   "id": "2482f778",
   "metadata": {},
   "source": [
    "6.Can we create a nested dictionary?if,so please give an example by creating a simple one-level nested dictionary example.\n",
    "\n",
    "->Yes ,we can createa nested dictionary"
   ]
  },
  {
   "cell_type": "code",
   "execution_count": 56,
   "id": "bf3ad500",
   "metadata": {},
   "outputs": [
    {
     "name": "stdout",
     "output_type": "stream",
     "text": [
      "Nested-Dcitionary \n",
      "\n",
      "{'Asia': {'Country': 'India', 'Capital': 'New-Delhi'}, 'Australia': {'Country': 'Australia', 'Capital': 'Canberra'}}\n"
     ]
    }
   ],
   "source": [
    "#Example of nested dictionary\n",
    "Dict={\"Asia\":{\"Country\":\"India\",\"Capital\":\"New-Delhi\"},\n",
    "    \"Australia\":{\"Country\":\"Australia\",\"Capital\":\"Canberra\"}}\n",
    "print(\"Nested-Dcitionary\",'\\n')\n",
    "print(Dict)"
   ]
  },
  {
   "cell_type": "code",
   "execution_count": 79,
   "id": "2e67ea6b",
   "metadata": {},
   "outputs": [],
   "source": [
    "'''7.Using setdefault()method,create key named topics in the given \n",
    "\n",
    "dictionary and also add the value of the key as this \n",
    "list'''\n",
    "topics=['python','Machine Learning','Deep Learning']\n",
    "dict1={'language':\"Python\",\"course\":\"Data Science Masters\"}"
   ]
  },
  {
   "cell_type": "code",
   "execution_count": 80,
   "id": "55425d10",
   "metadata": {},
   "outputs": [
    {
     "data": {
      "text/plain": [
       "{'language': 'Python',\n",
       " 'course': 'Data Science Masters',\n",
       " 'topics': {'Deep Learning', 'Machine Learning', 'Python'}}"
      ]
     },
     "execution_count": 80,
     "metadata": {},
     "output_type": "execute_result"
    }
   ],
   "source": [
    "dict1.setdefault(\"topics\",{\"Python\",\"Machine Learning\",\"Deep Learning\"})\n",
    "dict1"
   ]
  },
  {
   "cell_type": "markdown",
   "id": "b1cc96ea",
   "metadata": {},
   "source": [
    "8.What are three view objects in dictionaries?use the three in-built methods in python to display these three view objects for a given dictionary.\n",
    "->Three View Objects are Keys,values and items\n"
   ]
  },
  {
   "cell_type": "code",
   "execution_count": 81,
   "id": "09c78dfb",
   "metadata": {},
   "outputs": [
    {
     "data": {
      "text/plain": [
       "dict_keys(['Sport', 'Teams'])"
      ]
     },
     "execution_count": 81,
     "metadata": {},
     "output_type": "execute_result"
    }
   ],
   "source": [
    "dict1={\"Sport\":\"Cricket\",\"Teams\":['India','Australia','England','South Africa','Sri Lanka','New Zealand']}\n",
    "dict1.keys()"
   ]
  },
  {
   "cell_type": "code",
   "execution_count": 82,
   "id": "86deb4dd",
   "metadata": {},
   "outputs": [
    {
     "data": {
      "text/plain": [
       "dict_values(['Cricket', ['India', 'Australia', 'England', 'South Africa', 'Sri Lanka', 'New Zealand']])"
      ]
     },
     "execution_count": 82,
     "metadata": {},
     "output_type": "execute_result"
    }
   ],
   "source": [
    "dict1.values()"
   ]
  },
  {
   "cell_type": "code",
   "execution_count": 83,
   "id": "61521804",
   "metadata": {},
   "outputs": [
    {
     "data": {
      "text/plain": [
       "dict_items([('Sport', 'Cricket'), ('Teams', ['India', 'Australia', 'England', 'South Africa', 'Sri Lanka', 'New Zealand'])])"
      ]
     },
     "execution_count": 83,
     "metadata": {},
     "output_type": "execute_result"
    }
   ],
   "source": [
    "dict1.items()"
   ]
  },
  {
   "cell_type": "code",
   "execution_count": null,
   "id": "8e91ea55",
   "metadata": {},
   "outputs": [],
   "source": []
  }
 ],
 "metadata": {
  "kernelspec": {
   "display_name": "Python 3",
   "language": "python",
   "name": "python3"
  },
  "language_info": {
   "codemirror_mode": {
    "name": "ipython",
    "version": 3
   },
   "file_extension": ".py",
   "mimetype": "text/x-python",
   "name": "python",
   "nbconvert_exporter": "python",
   "pygments_lexer": "ipython3",
   "version": "3.8.8"
  }
 },
 "nbformat": 4,
 "nbformat_minor": 5
}

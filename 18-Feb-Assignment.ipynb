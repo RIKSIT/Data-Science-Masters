{
 "cells": [
  {
   "cell_type": "markdown",
   "id": "6deb3a15",
   "metadata": {},
   "source": [
    "Q1. What is an API? Give an example, where an API is used in real life."
   ]
  },
  {
   "cell_type": "markdown",
   "id": "fb101981",
   "metadata": {},
   "source": [
    "-API are used in web applications to connect user-facing front ends with critical back-end fuctionality and data.\n",
    "-APIs are used to deliver material by streaming services such as Spotify and Netflix."
   ]
  },
  {
   "cell_type": "markdown",
   "id": "42991cce",
   "metadata": {},
   "source": [
    "Q2. Give advantages and disadvantages of using API."
   ]
  },
  {
   "cell_type": "markdown",
   "id": "13de73be",
   "metadata": {},
   "source": [
    "Advantages of API\n",
    "-Lighter load for DevOps\n",
    "-Greater alignment.\n",
    "Disadvantages of API\n",
    "-API is a gateway and can become a hacker's primary target.\n",
    "-API are vulnerable to man-in-middle attacks,CSRF attacks."
   ]
  },
  {
   "cell_type": "markdown",
   "id": "86e60e5f",
   "metadata": {},
   "source": [
    "Q3. What is a Web API? Differentiate between API and Web API."
   ]
  },
  {
   "cell_type": "markdown",
   "id": "dcc5c2e9",
   "metadata": {},
   "source": [
    "WEB API-is an application programming interface for the web.A browser API can extend the functionality of a web browser.A server API can extend the functionality of a web server.\n",
    "\n",
    "API-All APIs are not web services.\n",
    "-It has light-weight architecture.\n",
    "\n",
    "\n",
    "Web API-"
   ]
  },
  {
   "cell_type": "markdown",
   "id": "2831d89f",
   "metadata": {},
   "source": [
    "Q4. Explain REST and SOAP Architecture. Mention shortcomings of SOAP."
   ]
  },
  {
   "cell_type": "code",
   "execution_count": null,
   "id": "a28c136b",
   "metadata": {},
   "outputs": [],
   "source": []
  },
  {
   "cell_type": "markdown",
   "id": "07f6bf32",
   "metadata": {},
   "source": [
    "Q5. Differentiate between REST and SOAP."
   ]
  },
  {
   "cell_type": "code",
   "execution_count": null,
   "id": "a3f930c8",
   "metadata": {},
   "outputs": [],
   "source": []
  }
 ],
 "metadata": {
  "kernelspec": {
   "display_name": "Python 3",
   "language": "python",
   "name": "python3"
  },
  "language_info": {
   "codemirror_mode": {
    "name": "ipython",
    "version": 3
   },
   "file_extension": ".py",
   "mimetype": "text/x-python",
   "name": "python",
   "nbconvert_exporter": "python",
   "pygments_lexer": "ipython3",
   "version": "3.8.8"
  }
 },
 "nbformat": 4,
 "nbformat_minor": 5
}

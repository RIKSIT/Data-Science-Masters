{
 "cells": [
  {
   "cell_type": "code",
   "execution_count": 19,
   "id": "3e111cfb",
   "metadata": {},
   "outputs": [
    {
     "name": "stdout",
     "output_type": "stream",
     "text": [
      "enter the percentage50\n",
      "Grade D\n"
     ]
    }
   ],
   "source": [
    "#1.Python program to accept percntage from the user and display the grade accordingly.\n",
    "a=int(input(\"enter the percentage\"))\n",
    "if a>90:\n",
    "    print(\"Grade A\")\n",
    "elif a>80 and a<=90:\n",
    "    print(\"Grade B\")\n",
    "elif a>=60 and a<=80:\n",
    "    print(\"Grade c\")\n",
    "else:\n",
    "    print(\"Grade D\")"
   ]
  },
  {
   "cell_type": "code",
   "execution_count": 33,
   "id": "e7953b8f",
   "metadata": {},
   "outputs": [
    {
     "name": "stdout",
     "output_type": "stream",
     "text": [
      "enter the price of bike45000\n",
      "2250.0 is to be paid\n"
     ]
    }
   ],
   "source": [
    "#2.Program to accept the cost price and display the road tax to be paid.\n",
    "b=int(input(\"enter the price of bike\"))\n",
    "if b>100000:\n",
    "    t=0.15\n",
    "    print(\"{} is to be paid\".format(b*t))\n",
    "    \n",
    "elif b>50000 and b<=100000:\n",
    "    t=0.10\n",
    "    print(\"{} is to be paid\".format(b*t))\n",
    "    \n",
    "else: \n",
    "    t=0.05\n",
    "    print(\"{} is to be paid\".format(b*t))\n",
    "    "
   ]
  },
  {
   "cell_type": "code",
   "execution_count": 46,
   "id": "ef3b280b",
   "metadata": {},
   "outputs": [
    {
     "name": "stdout",
     "output_type": "stream",
     "text": [
      "Enter the cityjaipur\n",
      "Jal Mahal Is The Monument\n"
     ]
    }
   ],
   "source": [
    "#3.Accept any city from the user and display monuments of that city\n",
    "c=str(input(\"Enter the city\"))\n",
    "\n",
    "if c==\"delhi\":\n",
    "    print(\"Red Fort is the Monument\".upper())\n",
    "    \n",
    "elif c==\"agra\":\n",
    "    print(\"Taj Mahal is the Monument\".lower())\n",
    "    \n",
    "elif c==\"jaipur\":\n",
    "    print(\"Jal Mahal is the Monument\".title())"
   ]
  },
  {
   "cell_type": "code",
   "execution_count": 54,
   "id": "81a189c9",
   "metadata": {},
   "outputs": [
    {
     "name": "stdout",
     "output_type": "stream",
     "text": [
      "Enter the  number12\n",
      "enter the number3\n",
      "Number is greater than 10\n",
      "Number is divisible by 3\n"
     ]
    }
   ],
   "source": [
    "#4.Check how many times a number can be divided by 3 before it is less than or equal to 10.\n",
    "num=int(input(\"Enter the  number\"))\n",
    "div=int(input(\"enter the number\"))\n",
    "if num%div ==0 :\n",
    "    if num>=10:\n",
    "        print(\"Number is greater than 10\")\n",
    "    print(\"Number is divisible by 3\")\n",
    "else:\n",
    "    print(\"number is not divisible\")"
   ]
  },
  {
   "cell_type": "markdown",
   "id": "ab8b8c23",
   "metadata": {},
   "source": [
    "5.Why and when to use while loop in python.Give a detailed description with example.\n",
    "->While loop-in this statements are executed sequentially.it repeats a statement or multiple statements when given condition is true."
   ]
  },
  {
   "cell_type": "code",
   "execution_count": 64,
   "id": "15c5e44b",
   "metadata": {},
   "outputs": [
    {
     "name": "stdout",
     "output_type": "stream",
     "text": [
      "0.5\n",
      "1.0\n",
      "1.5\n",
      "2.0\n",
      "2.5\n",
      "3.0\n",
      "3.5\n",
      "4.0\n",
      "4.5\n",
      "5.0\n",
      "5.5\n",
      "6.0\n",
      "6.5\n",
      "7.0\n",
      "7.5\n",
      "8.0\n",
      "8.5\n",
      "9.0\n",
      "9.5\n",
      "10.0\n",
      "10.5\n",
      "11.0\n",
      "11.5\n",
      "12.0\n",
      "12.5\n",
      "13.0\n",
      "13.5\n",
      "14.0\n",
      "14.5\n",
      "15.0\n",
      "15.5\n",
      "16.0\n",
      "16.5\n",
      "17.0\n",
      "17.5\n",
      "18.0\n",
      "18.5\n",
      "19.0\n",
      "19.5\n",
      "20.0\n",
      "20.5\n",
      "21.0\n",
      "21.5\n",
      "22.0\n",
      "22.5\n",
      "23.0\n",
      "23.5\n",
      "24.0\n",
      "24.5\n",
      "25.0\n",
      "25.5\n",
      "26.0\n",
      "26.5\n",
      "27.0\n",
      "27.5\n",
      "28.0\n",
      "28.5\n",
      "29.0\n",
      "29.5\n",
      "30.0\n",
      "30.5\n",
      "31.0\n",
      "31.5\n",
      "32.0\n",
      "32.5\n",
      "33.0\n",
      "33.5\n",
      "34.0\n",
      "34.5\n",
      "35.0\n",
      "35.5\n",
      "36.0\n",
      "36.5\n",
      "37.0\n",
      "37.5\n",
      "38.0\n",
      "38.5\n",
      "39.0\n",
      "39.5\n",
      "40.0\n",
      "40.5\n",
      "41.0\n",
      "41.5\n",
      "42.0\n",
      "42.5\n",
      "43.0\n",
      "43.5\n",
      "44.0\n",
      "44.5\n",
      "45.0\n",
      "45.5\n",
      "46.0\n",
      "46.5\n",
      "47.0\n",
      "47.5\n",
      "48.0\n",
      "48.5\n",
      "49.0\n",
      "49.5\n",
      "50.0\n",
      "Number series\n",
      "total number of share 5.0\n"
     ]
    }
   ],
   "source": [
    "#Examole of loop\n",
    "money=100\n",
    "i=1\n",
    "while i<=money:\n",
    "    print(i/2)\n",
    "    i+=1\n",
    "else:\n",
    "    print(\"Number series\")\n",
    "print(\"total number of share {}\".format(money/20))\n",
    "    "
   ]
  },
  {
   "cell_type": "code",
   "execution_count": 65,
   "id": "0537cf33",
   "metadata": {},
   "outputs": [
    {
     "name": "stdout",
     "output_type": "stream",
     "text": [
      "enter the number of rows:6\n",
      "* \n",
      "* * \n",
      "* * * \n",
      "* * * * \n",
      "* * * * * \n",
      "* * * * * * \n"
     ]
    }
   ],
   "source": [
    "#6.Use nested while loop to print 3 different pattern\n",
    "n=int(input(\"enter the number of rows:\"))\n",
    "i=1\n",
    "while i<=n:\n",
    "    j=1\n",
    "    while j<=i:\n",
    "        print(\"*\",end=\" \")\n",
    "        j+=1\n",
    "    print()\n",
    "    i+=1"
   ]
  },
  {
   "cell_type": "code",
   "execution_count": 66,
   "id": "39d8f057",
   "metadata": {},
   "outputs": [
    {
     "name": "stdout",
     "output_type": "stream",
     "text": [
      "enter the number of rows:6\n",
      "* * * * * * \n",
      "* * * * * \n",
      "* * * * \n",
      "* * * \n",
      "* * \n",
      "* \n"
     ]
    }
   ],
   "source": [
    "#Inverted right triangle\n",
    "n=int(input(\"enter the number of rows:\"))\n",
    "i=1\n",
    "while i<=n:\n",
    "    j=n\n",
    "    while j>=i:\n",
    "        print(\"*\",end=\" \")\n",
    "        j-=1\n",
    "    print()\n",
    "    i+=1"
   ]
  },
  {
   "cell_type": "code",
   "execution_count": 72,
   "id": "4b58adc6",
   "metadata": {},
   "outputs": [
    {
     "name": "stdout",
     "output_type": "stream",
     "text": [
      "enter the number of rows:7\n",
      "  1 \n",
      "  2   3 \n",
      "  4   5   6 \n",
      "  7   8   9  10 \n",
      " 11  12  13  14  15 \n",
      " 16  17  18  19  20  21 \n",
      " 22  23  24  25  26  27  28 \n"
     ]
    }
   ],
   "source": [
    "#Number Pattern\n",
    "n=int(input(\"enter the number of rows:\"))\n",
    "k=1\n",
    "i=1\n",
    "while i<=n:\n",
    "    j=1\n",
    "    while j<=i:\n",
    "        print(\"{:3d}\".format(k),end=\" \")\n",
    "        j+=1\n",
    "        k+=1\n",
    "    print()\n",
    "    i+=1"
   ]
  },
  {
   "cell_type": "code",
   "execution_count": 76,
   "id": "c0e9d628",
   "metadata": {},
   "outputs": [
    {
     "name": "stdout",
     "output_type": "stream",
     "text": [
      "10\n",
      "9\n",
      "8\n",
      "7\n",
      "6\n",
      "5\n",
      "4\n",
      "3\n",
      "2\n",
      "1\n"
     ]
    }
   ],
   "source": [
    "#7.Reverse a while lopp to display number from 10 to 1.\n",
    "i=10\n",
    "while i>0:\n",
    "    print(i)\n",
    "    i=i-1"
   ]
  },
  {
   "cell_type": "code",
   "execution_count": null,
   "id": "54bf7cb8",
   "metadata": {},
   "outputs": [],
   "source": []
  }
 ],
 "metadata": {
  "kernelspec": {
   "display_name": "Python 3",
   "language": "python",
   "name": "python3"
  },
  "language_info": {
   "codemirror_mode": {
    "name": "ipython",
    "version": 3
   },
   "file_extension": ".py",
   "mimetype": "text/x-python",
   "name": "python",
   "nbconvert_exporter": "python",
   "pygments_lexer": "ipython3",
   "version": "3.8.8"
  }
 },
 "nbformat": 4,
 "nbformat_minor": 5
}

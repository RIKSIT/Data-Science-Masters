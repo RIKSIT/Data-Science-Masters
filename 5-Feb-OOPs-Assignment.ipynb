{
 "cells": [
  {
   "cell_type": "markdown",
   "id": "841dae34",
   "metadata": {},
   "source": [
    "1.Explain class and object with respect to object-oriented programming.Give a suitable example.\n",
    "\n",
    "->class-are the user-defined data types that act as the blueprint for individual objects,attributes and methods.\n",
    "\n",
    "->Objects-are the instances of class created with specifically defined data.\n",
    "\n",
    "Example:\n",
    "class myclass:\n",
    "    x=5"
   ]
  },
  {
   "cell_type": "code",
   "execution_count": 4,
   "id": "6c71e93d",
   "metadata": {},
   "outputs": [
    {
     "name": "stdout",
     "output_type": "stream",
     "text": [
      "<class '__main__.MyClass'>\n"
     ]
    }
   ],
   "source": [
    "#Example of class:\n",
    "class MyClass:\n",
    "    x=5\n",
    "print(MyClass)\n",
    "    "
   ]
  },
  {
   "cell_type": "code",
   "execution_count": 8,
   "id": "03fa40a5",
   "metadata": {},
   "outputs": [
    {
     "name": "stdout",
     "output_type": "stream",
     "text": [
      "5\n"
     ]
    }
   ],
   "source": [
    "#Example of object\n",
    "class MyClass:\n",
    "    x=5\n",
    "p1=MyClass()\n",
    "print(p1.x)\n"
   ]
  },
  {
   "cell_type": "markdown",
   "id": "7252ef2c",
   "metadata": {},
   "source": [
    "2.Name Four pillars of OOPs.\n",
    "\n",
    "->Inheritance\n",
    "->Polymorphism\n",
    "->Encapsulation\n",
    "->Abstraction"
   ]
  },
  {
   "cell_type": "markdown",
   "id": "a4743256",
   "metadata": {},
   "source": [
    "3.Explain why the __init__() function is used.give a suitable example.\n",
    "->__init__ is called every time an object is created from class.\n",
    "->It is only used within class."
   ]
  },
  {
   "cell_type": "code",
   "execution_count": 12,
   "id": "2212401a",
   "metadata": {},
   "outputs": [
    {
     "data": {
      "text/plain": [
       "'rikshit'"
      ]
     },
     "execution_count": 12,
     "metadata": {},
     "output_type": "execute_result"
    }
   ],
   "source": [
    "#Example of __init__\n",
    "class name:\n",
    "    def __init__(self,name):\n",
    "        self.name=name\n",
    "    def details(self):\n",
    "        return self.name\n",
    "rixit=name(\"rikshit\")\n",
    "rixit.name"
   ]
  },
  {
   "cell_type": "markdown",
   "id": "5d541083",
   "metadata": {},
   "source": [
    "4.Why self is used in OOPs?\n",
    "->self is used to represent the instance of the class.\n",
    "->it works as a reference to the object."
   ]
  },
  {
   "cell_type": "markdown",
   "id": "f82b5982",
   "metadata": {},
   "source": [
    "5.What is Inheritance?Give an example for each type of inheritance.\n",
    "->Inheritance allows us to define a class that inherits all the methods and properties from another class\n",
    "->Parent class is being inherited and child class that inherts from another class."
   ]
  },
  {
   "cell_type": "markdown",
   "id": "d882e15b",
   "metadata": {},
   "source": [
    "->Different types of inheritance:\n",
    "-Single Inheritance\n",
    "-Multiple inheritance\n",
    "-Multilevel inheritance\n",
    "-Hierarchical inheritance\n"
   ]
  },
  {
   "cell_type": "code",
   "execution_count": 14,
   "id": "571d3446",
   "metadata": {},
   "outputs": [
    {
     "name": "stdout",
     "output_type": "stream",
     "text": [
      "this function is in parent class\n",
      "this function is in child class\n"
     ]
    }
   ],
   "source": [
    "#Example single-inheritance\n",
    "class parent:\n",
    "    def func1(self):\n",
    "        print(\"this function is in parent class\")\n",
    "\n",
    "class child(parent):\n",
    "    def func2(self):\n",
    "        print(\"this function is in child class\")\n",
    "\n",
    "object=child()\n",
    "object.func1()\n",
    "object.func2()"
   ]
  },
  {
   "cell_type": "code",
   "execution_count": 15,
   "id": "1202315e",
   "metadata": {},
   "outputs": [
    {
     "name": "stdout",
     "output_type": "stream",
     "text": [
      "father: Ram\n",
      "mother: Sita\n"
     ]
    }
   ],
   "source": [
    "#Example of multiple inheritance:\n",
    "class mother:\n",
    "    mothername=\"\"\n",
    "    def mother(self):\n",
    "        print(self.mothername)\n",
    "class father:\n",
    "    fathername=\"\"\n",
    "    def father(self):\n",
    "        print(self.fathername)\n",
    "class son(mother,father):\n",
    "    def parents(self):\n",
    "        print(\"father:\",self.fathername)\n",
    "        print(\"mother:\",self.mothername)\n",
    "s1=son()\n",
    "s1.fathername=\"Ram\"\n",
    "s1.mothername=\"Sita\"\n",
    "s1.parents()"
   ]
  },
  {
   "cell_type": "code",
   "execution_count": 16,
   "id": "b810e21c",
   "metadata": {},
   "outputs": [
    {
     "name": "stdout",
     "output_type": "stream",
     "text": [
      "Lal mani\n",
      "Grandfather name : Lal mani\n",
      "Father name : Rampal\n",
      "Son name : Prince\n"
     ]
    }
   ],
   "source": [
    "#Example of multilevel inheritance\n",
    "class Grandfather:\n",
    " \n",
    "    def __init__(self, grandfathername):\n",
    "        self.grandfathername = grandfathername\n",
    " \n",
    " \n",
    " \n",
    "class Father(Grandfather):\n",
    "    def __init__(self, fathername, grandfathername):\n",
    "        self.fathername = fathername\n",
    "\n",
    "        Grandfather.__init__(self, grandfathername)\n",
    " \n",
    " \n",
    " \n",
    "class Son(Father):\n",
    "    def __init__(self, sonname, fathername, grandfathername):\n",
    "        self.sonname = sonname\n",
    " \n",
    "    \n",
    "        Father.__init__(self, fathername, grandfathername)\n",
    " \n",
    "    def print_name(self):\n",
    "        print('Grandfather name :', self.grandfathername)\n",
    "        print(\"Father name :\", self.fathername)\n",
    "        print(\"Son name :\", self.sonname)\n",
    " \n",
    " \n",
    "s1 = Son('Prince', 'Rampal', 'Lal mani')\n",
    "print(s1.grandfathername)\n",
    "s1.print_name()"
   ]
  },
  {
   "cell_type": "code",
   "execution_count": 17,
   "id": "57db0a26",
   "metadata": {},
   "outputs": [
    {
     "name": "stdout",
     "output_type": "stream",
     "text": [
      "This function is in parent class.\n",
      "This function is in child 1.\n",
      "This function is in parent class.\n",
      "This function is in child 2.\n"
     ]
    }
   ],
   "source": [
    "#example of hierarchical inheritance\n",
    "class Parent:\n",
    "    def func1(self):\n",
    "        print(\"This function is in parent class.\")\n",
    " \n",
    " \n",
    "class Child1(Parent):\n",
    "    def func2(self):\n",
    "        print(\"This function is in child 1.\")\n",
    "\n",
    " \n",
    " \n",
    "class Child2(Parent):\n",
    "    def func3(self):\n",
    "        print(\"This function is in child 2.\")\n",
    " \n",
    " \n",
    "object1 = Child1()\n",
    "object2 = Child2()\n",
    "object1.func1()\n",
    "object1.func2()\n",
    "object2.func1()\n",
    "object2.func3()"
   ]
  },
  {
   "cell_type": "code",
   "execution_count": null,
   "id": "f6e59b30",
   "metadata": {},
   "outputs": [],
   "source": []
  }
 ],
 "metadata": {
  "kernelspec": {
   "display_name": "Python 3",
   "language": "python",
   "name": "python3"
  },
  "language_info": {
   "codemirror_mode": {
    "name": "ipython",
    "version": 3
   },
   "file_extension": ".py",
   "mimetype": "text/x-python",
   "name": "python",
   "nbconvert_exporter": "python",
   "pygments_lexer": "ipython3",
   "version": "3.8.8"
  }
 },
 "nbformat": 4,
 "nbformat_minor": 5
}

{
 "cells": [
  {
   "cell_type": "markdown",
   "id": "810e8caa",
   "metadata": {},
   "source": [
    "Q1. What is a database? Differentiate between SQL and NoSQL databases."
   ]
  },
  {
   "cell_type": "markdown",
   "id": "59952715",
   "metadata": {},
   "source": [
    "Database-is an organised collection of structured data ,typically stored electronically in computer.Database is usually controlled by a database management system.\n",
    "\n",
    "SQL-is the programming language used to interface with relational database.\n",
    "-slower than NoSQL\n",
    "-it is a table-based database.\n",
    "\n",
    "NoSQL- is a class of DBMS that are non-relational and generally do not use sql.\n",
    "-Faster than SQL.\n",
    "-It is document-based database,key-value pairs."
   ]
  },
  {
   "cell_type": "markdown",
   "id": "7e5c3a3c",
   "metadata": {},
   "source": [
    "Q2. What is DDL? Explain why CREATE, DROP, ALTER, and TRUNCATE are used with an example."
   ]
  },
  {
   "cell_type": "markdown",
   "id": "bf9ad2cd",
   "metadata": {},
   "source": [
    "DDL-Stands for data definition command.\n",
    "-DDL is a set of SQL Commands used to create ,modify and delete database structure but not data.\n",
    "\n",
    "Create-is used to create a new table in SQL.\n",
    "\n",
    "Example-create table student_info(\n",
    "college_id number(2),college_name varchar(30),branch varchar(10));\n",
    "\n",
    "DROP-is used to remove the existing table along with the structure from database.\n",
    "\n",
    "Example:DROP TABLE student_info;\n",
    "\n",
    "ALTER-command is used to add,delete or change columns in existing table.\n",
    "\n",
    "Example:Alter table student_info add cgpa number;\n",
    "\n",
    "TRUNCATE-command is used to remove all rows from table,but the structure of table still exists.\n",
    "\n",
    "Example:Truncate table student_info;\n",
    "\n",
    "\n"
   ]
  },
  {
   "cell_type": "markdown",
   "id": "8270a60c",
   "metadata": {},
   "source": [
    "Q3. What is DML? Explain INSERT, UPDATE, and DELETE with an example."
   ]
  },
  {
   "cell_type": "markdown",
   "id": "28ae9f82",
   "metadata": {},
   "source": [
    "DML-stands for Data Manipulation Language.\n",
    "-It is used to modify the database.\n",
    "-Commands of DML are not auto-committed.\n",
    "\n",
    "INSERT-is used to insert data into the row of table.\n",
    "Example: insert into student_info(\n",
    "college_id,college_name)values(1,'MDU');\n",
    "\n",
    "UPDATE:command is used to update the value of a column in the table.\n",
    "Example:update student_info set college_name='DU' where college_id='1'.\n",
    "\n",
    "DELETE:command is used to remove one or more row from a table.\n",
    "Example:Delete from student_info where college_name='DU';"
   ]
  },
  {
   "cell_type": "markdown",
   "id": "6492877e",
   "metadata": {},
   "source": [
    "Q4. What is DQL? Explain SELECT with an example."
   ]
  },
  {
   "cell_type": "markdown",
   "id": "cbe45b21",
   "metadata": {},
   "source": [
    "DQL- Stands for Data Query Language.\n",
    "-It is used to make various queries in databases.\n",
    "\n",
    "SELECT-is used to retrieve records from a database table according to clauses that specify criteria.\n",
    "\n",
    "Example:Select * from student_info;"
   ]
  },
  {
   "cell_type": "markdown",
   "id": "9744dc10",
   "metadata": {},
   "source": [
    "Q5. Explain Primary Key and Foreign Key."
   ]
  },
  {
   "cell_type": "markdown",
   "id": "3fa7a1d9",
   "metadata": {},
   "source": [
    "Primary Key-focuses on the uniqueness of the table.it assures the value in the specific column is unique.\n",
    "-Table allows only one primary key.\n",
    "\n",
    "Foreign Key-is generally used to build a relationship between the two tables."
   ]
  },
  {
   "cell_type": "markdown",
   "id": "4512c5f0",
   "metadata": {},
   "source": [
    "Q6. Write a python code to connect MySQL to python. Explain the cursor() and execute() method."
   ]
  },
  {
   "cell_type": "markdown",
   "id": "9b16e407",
   "metadata": {},
   "source": [
    "import mysql.connector\n",
    "db=mysql.connector.connect(\n",
    "host=\"localhost\",\n",
    "user=\"abc\",\n",
    "password=\"password\"\n",
    ")\n",
    "print(db)\n",
    "\n",
    "cursor()-is an iterator over a result set from a query.\n",
    "\n",
    "Execute()-is used to execute the query and return records according to the query.\n"
   ]
  },
  {
   "cell_type": "markdown",
   "id": "30ea762c",
   "metadata": {},
   "source": [
    "Q7. Give the order of execution of SQL clauses in an SQL query."
   ]
  },
  {
   "cell_type": "markdown",
   "id": "7dc45990",
   "metadata": {},
   "source": [
    "-SQL Order of execution\n",
    "\n",
    "1-FROM/JOIN-choose and join table to get base data.\n",
    "select * from student_info where name like '%a%';\n",
    "\n",
    "2-WHERE-filters the base data.\n",
    "select country,sum(area) from countries where sum(area)>1000 ;\n",
    "\n",
    "3-GROUP BY-aggregates the base data.\n",
    "select country,sum(area) from countries where sum(area)>1000 group by 1 ;\n",
    "\n",
    "4-HAVING-filters the aggregated data.\n",
    "\n",
    "5-SELECT-returns the final data\n",
    "select * from student_info;\n",
    "\n",
    "6-ORDER BY-sort the final data\n",
    "select * from customers order by name;\n",
    "\n",
    "7-LIMIT/OFFSET-limits the returned data to a row count.\n",
    "select count(*) from student_info;\n",
    "\n"
   ]
  }
 ],
 "metadata": {
  "kernelspec": {
   "display_name": "Python 3",
   "language": "python",
   "name": "python3"
  },
  "language_info": {
   "codemirror_mode": {
    "name": "ipython",
    "version": 3
   },
   "file_extension": ".py",
   "mimetype": "text/x-python",
   "name": "python",
   "nbconvert_exporter": "python",
   "pygments_lexer": "ipython3",
   "version": "3.8.8"
  }
 },
 "nbformat": 4,
 "nbformat_minor": 5
}

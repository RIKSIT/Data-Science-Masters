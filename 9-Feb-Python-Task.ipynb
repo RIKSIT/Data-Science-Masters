{
 "cells": [
  {
   "cell_type": "markdown",
   "id": "e2c5160e",
   "metadata": {},
   "source": [
    "Q1 Create a vehicle class with an init method having instance variables as name_of_vehicle, max_speed\n",
    "and average_of_vehicle."
   ]
  },
  {
   "cell_type": "code",
   "execution_count": 12,
   "id": "3be127b1",
   "metadata": {},
   "outputs": [
    {
     "data": {
      "text/plain": [
       "'Alfa-Romeo'"
      ]
     },
     "execution_count": 12,
     "metadata": {},
     "output_type": "execute_result"
    }
   ],
   "source": [
    "class vehicle:\n",
    "    def __init__(self,name_of_vehicle,max_speed,average_of_vehicle):\n",
    "        self.name_of_vehicle=name_of_vehicle\n",
    "        self.max_speed=max_speed\n",
    "        self.average_of_vehicle=average_of_vehicle\n",
    "voo1=vehicle(\"Alfa-Romeo\",140,10)\n",
    "voo1.name_of_vehicle"
   ]
  },
  {
   "cell_type": "markdown",
   "id": "e62c495a",
   "metadata": {},
   "source": [
    "Q2. Create a child class car from the vehicle class created in Que 1, which will inherit the vehicle class.\n",
    "Create a method named seating_capacity which takes capacity as an argument and returns the name of\n",
    "the vehicle and its seating capacity."
   ]
  },
  {
   "cell_type": "code",
   "execution_count": 52,
   "id": "152afbdc",
   "metadata": {},
   "outputs": [
    {
     "name": "stdout",
     "output_type": "stream",
     "text": [
      "The Seating Capacity of a School Volvo is 50 Passengers\n"
     ]
    }
   ],
   "source": [
    "class vehicle:\n",
    "    \n",
    "    def __init__(self,name,max_speed,average):\n",
    "        self.name=name\n",
    "        self.max_speed=max_speed\n",
    "        self.average=average\n",
    "\n",
    "    def seating_capacity(self,capacity):\n",
    "        return f\"The Seating Capacity of a {self.name} is {capacity} Passengers\"\n",
    "class bus(vehicle):\n",
    "    def seating_capacity(self,capacity=50):\n",
    "        return super().seating_capacity(capacity=50)\n",
    "school_bus=bus(\"School Volvo\",180,12)\n",
    "print(school_bus.seating_capacity())"
   ]
  },
  {
   "cell_type": "code",
   "execution_count": null,
   "id": "c3d2b40e",
   "metadata": {},
   "outputs": [],
   "source": []
  },
  {
   "cell_type": "markdown",
   "id": "8eac6b7d",
   "metadata": {},
   "source": [
    "Q3. What is multiple inheritance? Write a python code to demonstrate multiple inheritance.\n"
   ]
  },
  {
   "cell_type": "markdown",
   "id": "f2959e44",
   "metadata": {},
   "source": [
    "-Multiple-Inheritance->is a feature of object-oriented programming language in which an class can inherit the feature from more than one parent class."
   ]
  },
  {
   "cell_type": "code",
   "execution_count": 42,
   "id": "b33ce9c3",
   "metadata": {},
   "outputs": [
    {
     "name": "stdout",
     "output_type": "stream",
     "text": [
      "this is class2\n"
     ]
    }
   ],
   "source": [
    "#Example of multiple inheritance\n",
    "class class1:\n",
    "    def function(self):\n",
    "        print(\"this is class1\")\n",
    "class class2(class1):\n",
    "    def function(self):\n",
    "        print(\"this is class2\")\n",
    "class class3(class1):\n",
    "    def function(self):\n",
    "        print(\"this is class3\")\n",
    "class class4(class2,class3):\n",
    "    pass\n",
    "obj=class4()\n",
    "obj.function()"
   ]
  },
  {
   "cell_type": "markdown",
   "id": "776af503",
   "metadata": {},
   "source": [
    "What are getter and setter in python? Create a class and create a getter and a setter method in this\n",
    "class."
   ]
  },
  {
   "cell_type": "markdown",
   "id": "246c2626",
   "metadata": {},
   "source": [
    "Getter-A method that allows us to access an attribute in a given class\n",
    "Setter-A method that allows us to set the value of an attribute."
   ]
  },
  {
   "cell_type": "code",
   "execution_count": 44,
   "id": "e7b4d3dc",
   "metadata": {},
   "outputs": [
    {
     "name": "stdout",
     "output_type": "stream",
     "text": [
      "25\n",
      "25\n"
     ]
    }
   ],
   "source": [
    "#Example of getter and setter\n",
    "class python:\n",
    "    def __init__(self,age=0):\n",
    "        self._age=age\n",
    "    def get_age(self):\n",
    "        return self._age\n",
    "    def set_age(self,a):\n",
    "        self._age=a\n",
    "Rixit=python()\n",
    "Rixit.set_age(25)\n",
    "print(Rixit.get_age())\n",
    "print(Rixit._age)"
   ]
  },
  {
   "cell_type": "markdown",
   "id": "7bf58623",
   "metadata": {},
   "source": [
    "Q5.What is method overriding in python? Write a python code to demonstrate method overriding."
   ]
  },
  {
   "cell_type": "markdown",
   "id": "f887a98a",
   "metadata": {},
   "source": [
    "Method-overriding->is an ability of object oriented programming that allows a child-class to provide a specific implementation of methods that are already present in parent class."
   ]
  },
  {
   "cell_type": "code",
   "execution_count": 48,
   "id": "6e506ba5",
   "metadata": {},
   "outputs": [
    {
     "name": "stdout",
     "output_type": "stream",
     "text": [
      "Inside Parent Class\n",
      "Inside Child Class\n"
     ]
    }
   ],
   "source": [
    "#Python program of method overiding\n",
    "class parent:\n",
    "    def __init__(self):\n",
    "        self.value=\"Inside Parent Class\"\n",
    "    def show(self):\n",
    "        print(self.value)\n",
    "class child(parent):\n",
    "    def __init__(self):\n",
    "        self.value=\"Inside Child Class\"\n",
    "    def show(self):\n",
    "        print(self.value)\n",
    "obj1=parent()\n",
    "obj2=child()\n",
    "\n",
    "obj1.show()\n",
    "obj2.show()\n",
    "        "
   ]
  },
  {
   "cell_type": "code",
   "execution_count": null,
   "id": "79afe91c",
   "metadata": {},
   "outputs": [],
   "source": []
  }
 ],
 "metadata": {
  "kernelspec": {
   "display_name": "Python 3",
   "language": "python",
   "name": "python3"
  },
  "language_info": {
   "codemirror_mode": {
    "name": "ipython",
    "version": 3
   },
   "file_extension": ".py",
   "mimetype": "text/x-python",
   "name": "python",
   "nbconvert_exporter": "python",
   "pygments_lexer": "ipython3",
   "version": "3.8.8"
  }
 },
 "nbformat": 4,
 "nbformat_minor": 5
}

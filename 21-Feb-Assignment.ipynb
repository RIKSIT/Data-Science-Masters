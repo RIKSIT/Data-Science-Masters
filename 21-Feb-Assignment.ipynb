{
 "cells": [
  {
   "cell_type": "markdown",
   "id": "ca582023",
   "metadata": {},
   "source": [
    "Q1. What is Web Scraping? Why is it Used? Give three areas where Web Scraping is used to get data.\n",
    "\n",
    "-Web Scrapping is an automted method to obtain large amount of data from websites.\n",
    "\n",
    "-Web Scrapping is used in variety of digital business that rely on data harversting\n",
    "\n",
    "-Areas where Web Scrapping is used:\n",
    "1.Price intelligence\n",
    "2.Market Research\n",
    "3.Brand monitoring\n"
   ]
  },
  {
   "cell_type": "markdown",
   "id": "52e2d71d",
   "metadata": {},
   "source": [
    "Q2. What are the different methods used for Web Scraping?\n",
    "\n",
    "The most common techniques used for Web Scraping are\n",
    "\n",
    "Human copy-and-paste.\n",
    "Text pattern matching.\n",
    "HTTP programming.\n",
    "HTML parsing.\n",
    "DOM parsing.\n",
    "Vertical aggregation.\n",
    "Semantic annotation recognizing.\n",
    "Computer vision web-page analysis.\n"
   ]
  },
  {
   "cell_type": "markdown",
   "id": "b75efa56",
   "metadata": {},
   "source": [
    "Q3. What is Beautiful Soup? Why is it used?\n",
    "\n",
    "-Beautiful Soup is a python package for parsing HTML and XML documents.\n",
    "-It creates a parse tree for parsed pages that can be used to extract data from HTML,which is useful for web scraping.\n",
    "\n",
    "-It automatically converts the document to unicode."
   ]
  },
  {
   "cell_type": "markdown",
   "id": "bcc4d583",
   "metadata": {},
   "source": [
    "Q4. Why is flask used in this Web Scraping project?\n",
    "\n",
    "-Flask is a lightweight framework to build websites. We use this to parse our collected data and display it as HTML in a new HTML file. \n",
    "-The requests module allows us to send http requests to the website we want to scrape. \n",
    "-The first line imports the Flask class and the render_template method from the flask library."
   ]
  },
  {
   "cell_type": "markdown",
   "id": "6a4f2574",
   "metadata": {},
   "source": [
    "Q5. Write the names of AWS services used in this project. Also, explain the use of each service.\n",
    "-AWS Elastic Beanstalk\n",
    "\n",
    "AWS Elastic Beanstalk is an easy-to-use service for deploying and scaling web applications and services developed with Java, . NET, PHP, Node. js, Python, Ruby, Go, or Docker on familiar servers such as Apache, Nginx, Passenger, and IIS.\n",
    "\n",
    "-Codepipeline\n",
    "\n",
    "AWS CodePipeline is a fully managed continuous delivery service that helps you automate your release pipelines for fast and reliable application and infrastructure updates.\n"
   ]
  },
  {
   "cell_type": "code",
   "execution_count": null,
   "id": "938f4ade",
   "metadata": {},
   "outputs": [],
   "source": []
  }
 ],
 "metadata": {
  "kernelspec": {
   "display_name": "Python 3",
   "language": "python",
   "name": "python3"
  },
  "language_info": {
   "codemirror_mode": {
    "name": "ipython",
    "version": 3
   },
   "file_extension": ".py",
   "mimetype": "text/x-python",
   "name": "python",
   "nbconvert_exporter": "python",
   "pygments_lexer": "ipython3",
   "version": "3.8.8"
  }
 },
 "nbformat": 4,
 "nbformat_minor": 5
}

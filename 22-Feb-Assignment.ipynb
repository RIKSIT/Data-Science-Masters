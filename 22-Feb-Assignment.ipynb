{
 "cells": [
  {
   "cell_type": "markdown",
   "id": "ed0ba254",
   "metadata": {},
   "source": [
    "Q1. Create a Pandas Series that contains the following data: 4, 8, 15, 16, 23, and 42. Then, print the series."
   ]
  },
  {
   "cell_type": "code",
   "execution_count": 1,
   "id": "60f3aea5",
   "metadata": {},
   "outputs": [
    {
     "name": "stdout",
     "output_type": "stream",
     "text": [
      "0     4\n",
      "1     8\n",
      "2    15\n",
      "3    16\n",
      "4    23\n",
      "5    42\n",
      "dtype: int64\n"
     ]
    }
   ],
   "source": [
    "import pandas as pd\n",
    "list=[4,8,15,16,23,42]\n",
    "ser=pd.Series(list)\n",
    "print(ser)"
   ]
  },
  {
   "cell_type": "code",
   "execution_count": 2,
   "id": "51a25165",
   "metadata": {},
   "outputs": [
    {
     "data": {
      "text/plain": [
       "pandas.core.series.Series"
      ]
     },
     "execution_count": 2,
     "metadata": {},
     "output_type": "execute_result"
    }
   ],
   "source": [
    "type(ser)"
   ]
  },
  {
   "cell_type": "markdown",
   "id": "10566c50",
   "metadata": {},
   "source": [
    "Q2. Create a variable of list type containing 10 elements in it, and apply pandas.Series function on the\n",
    "variable print it."
   ]
  },
  {
   "cell_type": "code",
   "execution_count": 3,
   "id": "81c8b58b",
   "metadata": {},
   "outputs": [
    {
     "name": "stdout",
     "output_type": "stream",
     "text": [
      "0    1\n",
      "1    a\n",
      "2    2\n",
      "3    b\n",
      "4    3\n",
      "5    c\n",
      "6    4\n",
      "7    d\n",
      "8    5\n",
      "9    e\n",
      "dtype: object\n"
     ]
    }
   ],
   "source": [
    "list1=[1,'a',2,'b',3,'c',4,'d',5,'e']\n",
    "ser1=pd.Series(list1)\n",
    "print(ser1)"
   ]
  },
  {
   "cell_type": "code",
   "execution_count": 4,
   "id": "5b59cd80",
   "metadata": {},
   "outputs": [
    {
     "data": {
      "text/plain": [
       "pandas.core.series.Series"
      ]
     },
     "execution_count": 4,
     "metadata": {},
     "output_type": "execute_result"
    }
   ],
   "source": [
    "type(ser1)"
   ]
  },
  {
   "cell_type": "markdown",
   "id": "a8bcf6ed",
   "metadata": {},
   "source": [
    "Q3. Create a Pandas DataFrame that contains the following data:\n",
    "\n",
    "Then, print the DataFrame."
   ]
  },
  {
   "cell_type": "code",
   "execution_count": 6,
   "id": "a7eee36f",
   "metadata": {},
   "outputs": [
    {
     "name": "stdout",
     "output_type": "stream",
     "text": [
      "     Name  Age  Gender\n",
      "0   Alice   25  Female\n",
      "1     Bod   30    Male\n",
      "2  Claire   37  Female\n"
     ]
    }
   ],
   "source": [
    "data={\"Name\":['Alice','Bod','Claire'],\n",
    "   \"Age\":[25,30,37],\n",
    "   \"Gender\":[\"Female\",\"Male\",\"Female\"]}\n",
    "df=pd.DataFrame(data)\n",
    "print(df)"
   ]
  },
  {
   "cell_type": "code",
   "execution_count": 8,
   "id": "30f997e3",
   "metadata": {},
   "outputs": [
    {
     "data": {
      "text/plain": [
       "pandas.core.frame.DataFrame"
      ]
     },
     "execution_count": 8,
     "metadata": {},
     "output_type": "execute_result"
    }
   ],
   "source": [
    "type(df)"
   ]
  },
  {
   "cell_type": "markdown",
   "id": "d07f0094",
   "metadata": {},
   "source": [
    "Q4. What is ‘DataFrame’ in pandas and how is it different from pandas.series? Explain with an example."
   ]
  },
  {
   "cell_type": "markdown",
   "id": "4a9544d7",
   "metadata": {},
   "source": [
    "-A pandas DataFrame is a two-dimensional data structure that can be bought of as a spreadsheet.DataFrame is a colection of series.\n",
    "\n",
    "-Series in pandas only contain single list with indexes."
   ]
  },
  {
   "cell_type": "code",
   "execution_count": null,
   "id": "d0f89ee7",
   "metadata": {},
   "outputs": [],
   "source": [
    "#Example of Series:\n",
    "list=[4,8,15,16,23,42]\n",
    "ser=pd.Series(list)\n",
    "print(ser)"
   ]
  },
  {
   "cell_type": "code",
   "execution_count": null,
   "id": "3b6cc5ab",
   "metadata": {},
   "outputs": [],
   "source": [
    "#Example of DataFrame\n",
    "data={\"Name\":['Alice','Bod','Claire'],\n",
    "   \"Age\":[25,30,37],\n",
    "   \"Gender\":[\"Female\",\"Male\",\"Female\"]}\n",
    "df=pd.DataFrame(data)\n",
    "print(df)"
   ]
  },
  {
   "cell_type": "markdown",
   "id": "3bd42747",
   "metadata": {},
   "source": [
    "Q5. What are some common functions you can use to manipulate data in a Pandas DataFrame? Can\n",
    "you give an example of when you might use one of these functions?"
   ]
  },
  {
   "cell_type": "code",
   "execution_count": 14,
   "id": "dc0ae532",
   "metadata": {},
   "outputs": [
    {
     "data": {
      "text/html": [
       "<div>\n",
       "<style scoped>\n",
       "    .dataframe tbody tr th:only-of-type {\n",
       "        vertical-align: middle;\n",
       "    }\n",
       "\n",
       "    .dataframe tbody tr th {\n",
       "        vertical-align: top;\n",
       "    }\n",
       "\n",
       "    .dataframe thead th {\n",
       "        text-align: right;\n",
       "    }\n",
       "</style>\n",
       "<table border=\"1\" class=\"dataframe\">\n",
       "  <thead>\n",
       "    <tr style=\"text-align: right;\">\n",
       "      <th></th>\n",
       "      <th>Rk</th>\n",
       "      <th>Conference</th>\n",
       "      <th>Schls</th>\n",
       "      <th>W</th>\n",
       "      <th>L</th>\n",
       "      <th>W-L%</th>\n",
       "      <th>SRS</th>\n",
       "      <th>SOS</th>\n",
       "      <th>AP</th>\n",
       "      <th>NCAA</th>\n",
       "      <th>FF</th>\n",
       "      <th>Regular Season Champ</th>\n",
       "      <th>Tournament Champ</th>\n",
       "    </tr>\n",
       "  </thead>\n",
       "  <tbody>\n",
       "    <tr>\n",
       "      <th>0</th>\n",
       "      <td>1</td>\n",
       "      <td>Southeastern Conference</td>\n",
       "      <td>14</td>\n",
       "      <td>238</td>\n",
       "      <td>154</td>\n",
       "      <td>0.607</td>\n",
       "      <td>11.73</td>\n",
       "      <td>7.34</td>\n",
       "      <td>0</td>\n",
       "      <td>0</td>\n",
       "      <td>0</td>\n",
       "      <td>NaN</td>\n",
       "      <td>NaN</td>\n",
       "    </tr>\n",
       "    <tr>\n",
       "      <th>1</th>\n",
       "      <td>2</td>\n",
       "      <td>Pac-12 Conference</td>\n",
       "      <td>12</td>\n",
       "      <td>184</td>\n",
       "      <td>148</td>\n",
       "      <td>0.554</td>\n",
       "      <td>11.04</td>\n",
       "      <td>7.85</td>\n",
       "      <td>0</td>\n",
       "      <td>0</td>\n",
       "      <td>0</td>\n",
       "      <td>NaN</td>\n",
       "      <td>NaN</td>\n",
       "    </tr>\n",
       "    <tr>\n",
       "      <th>2</th>\n",
       "      <td>3</td>\n",
       "      <td>Big 12 Conference</td>\n",
       "      <td>10</td>\n",
       "      <td>182</td>\n",
       "      <td>97</td>\n",
       "      <td>0.652</td>\n",
       "      <td>16.61</td>\n",
       "      <td>10.02</td>\n",
       "      <td>0</td>\n",
       "      <td>0</td>\n",
       "      <td>0</td>\n",
       "      <td>NaN</td>\n",
       "      <td>NaN</td>\n",
       "    </tr>\n",
       "    <tr>\n",
       "      <th>3</th>\n",
       "      <td>4</td>\n",
       "      <td>Big Ten Conference</td>\n",
       "      <td>14</td>\n",
       "      <td>230</td>\n",
       "      <td>152</td>\n",
       "      <td>0.602</td>\n",
       "      <td>12.97</td>\n",
       "      <td>8.20</td>\n",
       "      <td>0</td>\n",
       "      <td>0</td>\n",
       "      <td>0</td>\n",
       "      <td>NaN</td>\n",
       "      <td>NaN</td>\n",
       "    </tr>\n",
       "    <tr>\n",
       "      <th>4</th>\n",
       "      <td>5</td>\n",
       "      <td>American Athletic Conference</td>\n",
       "      <td>11</td>\n",
       "      <td>167</td>\n",
       "      <td>134</td>\n",
       "      <td>0.555</td>\n",
       "      <td>6.76</td>\n",
       "      <td>3.85</td>\n",
       "      <td>0</td>\n",
       "      <td>0</td>\n",
       "      <td>0</td>\n",
       "      <td>NaN</td>\n",
       "      <td>NaN</td>\n",
       "    </tr>\n",
       "  </tbody>\n",
       "</table>\n",
       "</div>"
      ],
      "text/plain": [
       "   Rk                    Conference  Schls    W    L   W-L%    SRS    SOS  AP  \\\n",
       "0   1       Southeastern Conference     14  238  154  0.607  11.73   7.34   0   \n",
       "1   2             Pac-12 Conference     12  184  148  0.554  11.04   7.85   0   \n",
       "2   3             Big 12 Conference     10  182   97  0.652  16.61  10.02   0   \n",
       "3   4            Big Ten Conference     14  230  152  0.602  12.97   8.20   0   \n",
       "4   5  American Athletic Conference     11  167  134  0.555   6.76   3.85   0   \n",
       "\n",
       "   NCAA  FF  Regular Season Champ  Tournament Champ  \n",
       "0     0   0                   NaN               NaN  \n",
       "1     0   0                   NaN               NaN  \n",
       "2     0   0                   NaN               NaN  \n",
       "3     0   0                   NaN               NaN  \n",
       "4     0   0                   NaN               NaN  "
      ]
     },
     "execution_count": 14,
     "metadata": {},
     "output_type": "execute_result"
    }
   ],
   "source": [
    "fd=pd.read_csv(\"players.csv\")\n",
    "fd.head(5)"
   ]
  },
  {
   "cell_type": "code",
   "execution_count": 16,
   "id": "9f55dbcf",
   "metadata": {},
   "outputs": [
    {
     "data": {
      "text/html": [
       "<div>\n",
       "<style scoped>\n",
       "    .dataframe tbody tr th:only-of-type {\n",
       "        vertical-align: middle;\n",
       "    }\n",
       "\n",
       "    .dataframe tbody tr th {\n",
       "        vertical-align: top;\n",
       "    }\n",
       "\n",
       "    .dataframe thead th {\n",
       "        text-align: right;\n",
       "    }\n",
       "</style>\n",
       "<table border=\"1\" class=\"dataframe\">\n",
       "  <thead>\n",
       "    <tr style=\"text-align: right;\">\n",
       "      <th></th>\n",
       "      <th>Rk</th>\n",
       "      <th>Conference</th>\n",
       "      <th>Schls</th>\n",
       "      <th>W</th>\n",
       "      <th>L</th>\n",
       "      <th>W-L%</th>\n",
       "      <th>SRS</th>\n",
       "      <th>SOS</th>\n",
       "      <th>AP</th>\n",
       "      <th>NCAA</th>\n",
       "      <th>FF</th>\n",
       "      <th>Regular Season Champ</th>\n",
       "      <th>Tournament Champ</th>\n",
       "    </tr>\n",
       "  </thead>\n",
       "  <tbody>\n",
       "    <tr>\n",
       "      <th>28</th>\n",
       "      <td>29</td>\n",
       "      <td>Northeast Conference</td>\n",
       "      <td>9</td>\n",
       "      <td>107</td>\n",
       "      <td>145</td>\n",
       "      <td>0.425</td>\n",
       "      <td>-14.28</td>\n",
       "      <td>-9.27</td>\n",
       "      <td>0</td>\n",
       "      <td>0</td>\n",
       "      <td>0</td>\n",
       "      <td>NaN</td>\n",
       "      <td>NaN</td>\n",
       "    </tr>\n",
       "    <tr>\n",
       "      <th>29</th>\n",
       "      <td>30</td>\n",
       "      <td>Ohio Valley Conference</td>\n",
       "      <td>10</td>\n",
       "      <td>142</td>\n",
       "      <td>150</td>\n",
       "      <td>0.486</td>\n",
       "      <td>-9.52</td>\n",
       "      <td>-6.55</td>\n",
       "      <td>0</td>\n",
       "      <td>0</td>\n",
       "      <td>0</td>\n",
       "      <td>NaN</td>\n",
       "      <td>NaN</td>\n",
       "    </tr>\n",
       "    <tr>\n",
       "      <th>30</th>\n",
       "      <td>31</td>\n",
       "      <td>Mid-Eastern Athletic Conference</td>\n",
       "      <td>8</td>\n",
       "      <td>96</td>\n",
       "      <td>118</td>\n",
       "      <td>0.449</td>\n",
       "      <td>-9.55</td>\n",
       "      <td>-4.19</td>\n",
       "      <td>0</td>\n",
       "      <td>0</td>\n",
       "      <td>0</td>\n",
       "      <td>NaN</td>\n",
       "      <td>NaN</td>\n",
       "    </tr>\n",
       "    <tr>\n",
       "      <th>31</th>\n",
       "      <td>32</td>\n",
       "      <td>America East Conference</td>\n",
       "      <td>9</td>\n",
       "      <td>125</td>\n",
       "      <td>126</td>\n",
       "      <td>0.498</td>\n",
       "      <td>-6.71</td>\n",
       "      <td>-5.22</td>\n",
       "      <td>0</td>\n",
       "      <td>0</td>\n",
       "      <td>0</td>\n",
       "      <td>NaN</td>\n",
       "      <td>NaN</td>\n",
       "    </tr>\n",
       "    <tr>\n",
       "      <th>32</th>\n",
       "      <td>33</td>\n",
       "      <td>Southland Conference</td>\n",
       "      <td>10</td>\n",
       "      <td>124</td>\n",
       "      <td>154</td>\n",
       "      <td>0.446</td>\n",
       "      <td>-10.64</td>\n",
       "      <td>-5.79</td>\n",
       "      <td>0</td>\n",
       "      <td>0</td>\n",
       "      <td>0</td>\n",
       "      <td>NaN</td>\n",
       "      <td>NaN</td>\n",
       "    </tr>\n",
       "  </tbody>\n",
       "</table>\n",
       "</div>"
      ],
      "text/plain": [
       "    Rk                       Conference  Schls    W    L   W-L%    SRS   SOS  \\\n",
       "28  29             Northeast Conference      9  107  145  0.425 -14.28 -9.27   \n",
       "29  30           Ohio Valley Conference     10  142  150  0.486  -9.52 -6.55   \n",
       "30  31  Mid-Eastern Athletic Conference      8   96  118  0.449  -9.55 -4.19   \n",
       "31  32          America East Conference      9  125  126  0.498  -6.71 -5.22   \n",
       "32  33             Southland Conference     10  124  154  0.446 -10.64 -5.79   \n",
       "\n",
       "    AP  NCAA  FF  Regular Season Champ  Tournament Champ  \n",
       "28   0     0   0                   NaN               NaN  \n",
       "29   0     0   0                   NaN               NaN  \n",
       "30   0     0   0                   NaN               NaN  \n",
       "31   0     0   0                   NaN               NaN  \n",
       "32   0     0   0                   NaN               NaN  "
      ]
     },
     "execution_count": 16,
     "metadata": {},
     "output_type": "execute_result"
    }
   ],
   "source": [
    "fd.tail(5)"
   ]
  },
  {
   "cell_type": "code",
   "execution_count": 17,
   "id": "c1d36464",
   "metadata": {},
   "outputs": [
    {
     "data": {
      "text/html": [
       "<div>\n",
       "<style scoped>\n",
       "    .dataframe tbody tr th:only-of-type {\n",
       "        vertical-align: middle;\n",
       "    }\n",
       "\n",
       "    .dataframe tbody tr th {\n",
       "        vertical-align: top;\n",
       "    }\n",
       "\n",
       "    .dataframe thead th {\n",
       "        text-align: right;\n",
       "    }\n",
       "</style>\n",
       "<table border=\"1\" class=\"dataframe\">\n",
       "  <thead>\n",
       "    <tr style=\"text-align: right;\">\n",
       "      <th></th>\n",
       "      <th>Rk</th>\n",
       "      <th>Conference</th>\n",
       "      <th>Schls</th>\n",
       "      <th>W</th>\n",
       "      <th>L</th>\n",
       "      <th>W-L%</th>\n",
       "      <th>SRS</th>\n",
       "      <th>SOS</th>\n",
       "      <th>AP</th>\n",
       "      <th>NCAA</th>\n",
       "      <th>FF</th>\n",
       "      <th>Regular Season Champ</th>\n",
       "      <th>Tournament Champ</th>\n",
       "    </tr>\n",
       "  </thead>\n",
       "  <tbody>\n",
       "    <tr>\n",
       "      <th>3</th>\n",
       "      <td>4</td>\n",
       "      <td>Big Ten Conference</td>\n",
       "      <td>14</td>\n",
       "      <td>230</td>\n",
       "      <td>152</td>\n",
       "      <td>0.602</td>\n",
       "      <td>12.97</td>\n",
       "      <td>8.2</td>\n",
       "      <td>0</td>\n",
       "      <td>0</td>\n",
       "      <td>0</td>\n",
       "      <td>NaN</td>\n",
       "      <td>NaN</td>\n",
       "    </tr>\n",
       "  </tbody>\n",
       "</table>\n",
       "</div>"
      ],
      "text/plain": [
       "   Rk          Conference  Schls    W    L   W-L%    SRS  SOS  AP  NCAA  FF  \\\n",
       "3   4  Big Ten Conference     14  230  152  0.602  12.97  8.2   0     0   0   \n",
       "\n",
       "   Regular Season Champ  Tournament Champ  \n",
       "3                   NaN               NaN  "
      ]
     },
     "execution_count": 17,
     "metadata": {},
     "output_type": "execute_result"
    }
   ],
   "source": [
    "fd.sample()"
   ]
  },
  {
   "cell_type": "code",
   "execution_count": 18,
   "id": "ca99fdf3",
   "metadata": {},
   "outputs": [
    {
     "name": "stdout",
     "output_type": "stream",
     "text": [
      "<class 'pandas.core.frame.DataFrame'>\n",
      "RangeIndex: 33 entries, 0 to 32\n",
      "Data columns (total 13 columns):\n",
      " #   Column                Non-Null Count  Dtype  \n",
      "---  ------                --------------  -----  \n",
      " 0   Rk                    33 non-null     int64  \n",
      " 1   Conference            33 non-null     object \n",
      " 2   Schls                 33 non-null     int64  \n",
      " 3   W                     33 non-null     int64  \n",
      " 4   L                     33 non-null     int64  \n",
      " 5   W-L%                  33 non-null     float64\n",
      " 6   SRS                   33 non-null     float64\n",
      " 7   SOS                   33 non-null     float64\n",
      " 8   AP                    33 non-null     int64  \n",
      " 9   NCAA                  33 non-null     int64  \n",
      " 10  FF                    33 non-null     int64  \n",
      " 11  Regular Season Champ  0 non-null      float64\n",
      " 12  Tournament Champ      0 non-null      float64\n",
      "dtypes: float64(5), int64(7), object(1)\n",
      "memory usage: 3.5+ KB\n"
     ]
    }
   ],
   "source": [
    "fd.info()"
   ]
  },
  {
   "cell_type": "code",
   "execution_count": 20,
   "id": "b22f8278",
   "metadata": {},
   "outputs": [
    {
     "data": {
      "text/html": [
       "<div>\n",
       "<style scoped>\n",
       "    .dataframe tbody tr th:only-of-type {\n",
       "        vertical-align: middle;\n",
       "    }\n",
       "\n",
       "    .dataframe tbody tr th {\n",
       "        vertical-align: top;\n",
       "    }\n",
       "\n",
       "    .dataframe thead th {\n",
       "        text-align: right;\n",
       "    }\n",
       "</style>\n",
       "<table border=\"1\" class=\"dataframe\">\n",
       "  <thead>\n",
       "    <tr style=\"text-align: right;\">\n",
       "      <th></th>\n",
       "      <th>Rk</th>\n",
       "      <th>Schls</th>\n",
       "      <th>W</th>\n",
       "      <th>L</th>\n",
       "      <th>W-L%</th>\n",
       "      <th>SRS</th>\n",
       "      <th>SOS</th>\n",
       "      <th>AP</th>\n",
       "      <th>NCAA</th>\n",
       "      <th>FF</th>\n",
       "      <th>Regular Season Champ</th>\n",
       "      <th>Tournament Champ</th>\n",
       "    </tr>\n",
       "  </thead>\n",
       "  <tbody>\n",
       "    <tr>\n",
       "      <th>count</th>\n",
       "      <td>33.00000</td>\n",
       "      <td>33.000000</td>\n",
       "      <td>33.000000</td>\n",
       "      <td>33.000000</td>\n",
       "      <td>33.000000</td>\n",
       "      <td>33.000000</td>\n",
       "      <td>33.000000</td>\n",
       "      <td>33.0</td>\n",
       "      <td>33.0</td>\n",
       "      <td>33.0</td>\n",
       "      <td>0.0</td>\n",
       "      <td>0.0</td>\n",
       "    </tr>\n",
       "    <tr>\n",
       "      <th>mean</th>\n",
       "      <td>17.00000</td>\n",
       "      <td>11.000000</td>\n",
       "      <td>162.515152</td>\n",
       "      <td>147.666667</td>\n",
       "      <td>0.514697</td>\n",
       "      <td>-1.033030</td>\n",
       "      <td>-0.546061</td>\n",
       "      <td>0.0</td>\n",
       "      <td>0.0</td>\n",
       "      <td>0.0</td>\n",
       "      <td>NaN</td>\n",
       "      <td>NaN</td>\n",
       "    </tr>\n",
       "    <tr>\n",
       "      <th>std</th>\n",
       "      <td>9.66954</td>\n",
       "      <td>2.474874</td>\n",
       "      <td>47.081791</td>\n",
       "      <td>32.479481</td>\n",
       "      <td>0.071000</td>\n",
       "      <td>8.387309</td>\n",
       "      <td>5.133459</td>\n",
       "      <td>0.0</td>\n",
       "      <td>0.0</td>\n",
       "      <td>0.0</td>\n",
       "      <td>NaN</td>\n",
       "      <td>NaN</td>\n",
       "    </tr>\n",
       "    <tr>\n",
       "      <th>min</th>\n",
       "      <td>1.00000</td>\n",
       "      <td>2.000000</td>\n",
       "      <td>16.000000</td>\n",
       "      <td>41.000000</td>\n",
       "      <td>0.281000</td>\n",
       "      <td>-16.200000</td>\n",
       "      <td>-9.270000</td>\n",
       "      <td>0.0</td>\n",
       "      <td>0.0</td>\n",
       "      <td>0.0</td>\n",
       "      <td>NaN</td>\n",
       "      <td>NaN</td>\n",
       "    </tr>\n",
       "    <tr>\n",
       "      <th>25%</th>\n",
       "      <td>9.00000</td>\n",
       "      <td>10.000000</td>\n",
       "      <td>141.000000</td>\n",
       "      <td>133.000000</td>\n",
       "      <td>0.481000</td>\n",
       "      <td>-6.080000</td>\n",
       "      <td>-4.190000</td>\n",
       "      <td>0.0</td>\n",
       "      <td>0.0</td>\n",
       "      <td>0.0</td>\n",
       "      <td>NaN</td>\n",
       "      <td>NaN</td>\n",
       "    </tr>\n",
       "    <tr>\n",
       "      <th>50%</th>\n",
       "      <td>17.00000</td>\n",
       "      <td>11.000000</td>\n",
       "      <td>165.000000</td>\n",
       "      <td>150.000000</td>\n",
       "      <td>0.515000</td>\n",
       "      <td>-2.760000</td>\n",
       "      <td>-1.670000</td>\n",
       "      <td>0.0</td>\n",
       "      <td>0.0</td>\n",
       "      <td>0.0</td>\n",
       "      <td>NaN</td>\n",
       "      <td>NaN</td>\n",
       "    </tr>\n",
       "    <tr>\n",
       "      <th>75%</th>\n",
       "      <td>25.00000</td>\n",
       "      <td>12.000000</td>\n",
       "      <td>184.000000</td>\n",
       "      <td>166.000000</td>\n",
       "      <td>0.565000</td>\n",
       "      <td>6.760000</td>\n",
       "      <td>3.850000</td>\n",
       "      <td>0.0</td>\n",
       "      <td>0.0</td>\n",
       "      <td>0.0</td>\n",
       "      <td>NaN</td>\n",
       "      <td>NaN</td>\n",
       "    </tr>\n",
       "    <tr>\n",
       "      <th>max</th>\n",
       "      <td>33.00000</td>\n",
       "      <td>15.000000</td>\n",
       "      <td>239.000000</td>\n",
       "      <td>202.000000</td>\n",
       "      <td>0.652000</td>\n",
       "      <td>16.610000</td>\n",
       "      <td>10.020000</td>\n",
       "      <td>0.0</td>\n",
       "      <td>0.0</td>\n",
       "      <td>0.0</td>\n",
       "      <td>NaN</td>\n",
       "      <td>NaN</td>\n",
       "    </tr>\n",
       "  </tbody>\n",
       "</table>\n",
       "</div>"
      ],
      "text/plain": [
       "             Rk      Schls           W           L       W-L%        SRS  \\\n",
       "count  33.00000  33.000000   33.000000   33.000000  33.000000  33.000000   \n",
       "mean   17.00000  11.000000  162.515152  147.666667   0.514697  -1.033030   \n",
       "std     9.66954   2.474874   47.081791   32.479481   0.071000   8.387309   \n",
       "min     1.00000   2.000000   16.000000   41.000000   0.281000 -16.200000   \n",
       "25%     9.00000  10.000000  141.000000  133.000000   0.481000  -6.080000   \n",
       "50%    17.00000  11.000000  165.000000  150.000000   0.515000  -2.760000   \n",
       "75%    25.00000  12.000000  184.000000  166.000000   0.565000   6.760000   \n",
       "max    33.00000  15.000000  239.000000  202.000000   0.652000  16.610000   \n",
       "\n",
       "             SOS    AP  NCAA    FF  Regular Season Champ  Tournament Champ  \n",
       "count  33.000000  33.0  33.0  33.0                   0.0               0.0  \n",
       "mean   -0.546061   0.0   0.0   0.0                   NaN               NaN  \n",
       "std     5.133459   0.0   0.0   0.0                   NaN               NaN  \n",
       "min    -9.270000   0.0   0.0   0.0                   NaN               NaN  \n",
       "25%    -4.190000   0.0   0.0   0.0                   NaN               NaN  \n",
       "50%    -1.670000   0.0   0.0   0.0                   NaN               NaN  \n",
       "75%     3.850000   0.0   0.0   0.0                   NaN               NaN  \n",
       "max    10.020000   0.0   0.0   0.0                   NaN               NaN  "
      ]
     },
     "execution_count": 20,
     "metadata": {},
     "output_type": "execute_result"
    }
   ],
   "source": [
    "fd.describe()"
   ]
  },
  {
   "cell_type": "markdown",
   "id": "b5343e76",
   "metadata": {},
   "source": [
    "Q6. Which of the following is mutable in nature Series, DataFrame, Panel?"
   ]
  },
  {
   "cell_type": "markdown",
   "id": "1b22db7b",
   "metadata": {},
   "source": [
    "-Series objects are value_mutable but size-immutable objects.\n",
    "-DataFrame is mutable and provides great flexibility."
   ]
  },
  {
   "cell_type": "markdown",
   "id": "717de3dc",
   "metadata": {},
   "source": [
    "Q7. Create a DataFrame using multiple Series. Explain with an example."
   ]
  },
  {
   "cell_type": "code",
   "execution_count": 34,
   "id": "67c67ddd",
   "metadata": {},
   "outputs": [],
   "source": [
    "a=pd.Series([\"ABC\",\"DEF\",\"GHI\"])"
   ]
  },
  {
   "cell_type": "code",
   "execution_count": 35,
   "id": "4fef0246",
   "metadata": {},
   "outputs": [],
   "source": [
    "b=pd.Series([\"JKL\",\"MNO\",\"PQR\"])"
   ]
  },
  {
   "cell_type": "code",
   "execution_count": 36,
   "id": "ad56a469",
   "metadata": {},
   "outputs": [
    {
     "data": {
      "text/html": [
       "<div>\n",
       "<style scoped>\n",
       "    .dataframe tbody tr th:only-of-type {\n",
       "        vertical-align: middle;\n",
       "    }\n",
       "\n",
       "    .dataframe tbody tr th {\n",
       "        vertical-align: top;\n",
       "    }\n",
       "\n",
       "    .dataframe thead th {\n",
       "        text-align: right;\n",
       "    }\n",
       "</style>\n",
       "<table border=\"1\" class=\"dataframe\">\n",
       "  <thead>\n",
       "    <tr style=\"text-align: right;\">\n",
       "      <th></th>\n",
       "      <th>0</th>\n",
       "    </tr>\n",
       "  </thead>\n",
       "  <tbody>\n",
       "    <tr>\n",
       "      <th>0</th>\n",
       "      <td>ABC</td>\n",
       "    </tr>\n",
       "    <tr>\n",
       "      <th>1</th>\n",
       "      <td>DEF</td>\n",
       "    </tr>\n",
       "    <tr>\n",
       "      <th>2</th>\n",
       "      <td>GHI</td>\n",
       "    </tr>\n",
       "    <tr>\n",
       "      <th>3</th>\n",
       "      <td>JKL</td>\n",
       "    </tr>\n",
       "    <tr>\n",
       "      <th>4</th>\n",
       "      <td>MNO</td>\n",
       "    </tr>\n",
       "    <tr>\n",
       "      <th>5</th>\n",
       "      <td>PQR</td>\n",
       "    </tr>\n",
       "  </tbody>\n",
       "</table>\n",
       "</div>"
      ],
      "text/plain": [
       "     0\n",
       "0  ABC\n",
       "1  DEF\n",
       "2  GHI\n",
       "3  JKL\n",
       "4  MNO\n",
       "5  PQR"
      ]
     },
     "execution_count": 36,
     "metadata": {},
     "output_type": "execute_result"
    }
   ],
   "source": [
    "df3=pd.DataFrame(a.append(b,ignore_index=True))\n",
    "df3"
   ]
  },
  {
   "cell_type": "code",
   "execution_count": 42,
   "id": "427c9519",
   "metadata": {},
   "outputs": [
    {
     "data": {
      "text/plain": [
       "'DEF'"
      ]
     },
     "execution_count": 42,
     "metadata": {},
     "output_type": "execute_result"
    }
   ],
   "source": [
    "df3[0][1]"
   ]
  },
  {
   "cell_type": "code",
   "execution_count": 45,
   "id": "a2e66818",
   "metadata": {},
   "outputs": [
    {
     "data": {
      "text/plain": [
       "pandas.core.frame.DataFrame"
      ]
     },
     "execution_count": 45,
     "metadata": {},
     "output_type": "execute_result"
    }
   ],
   "source": [
    "type(df3)"
   ]
  },
  {
   "cell_type": "code",
   "execution_count": null,
   "id": "1c634cfd",
   "metadata": {},
   "outputs": [],
   "source": []
  }
 ],
 "metadata": {
  "kernelspec": {
   "display_name": "Python 3",
   "language": "python",
   "name": "python3"
  },
  "language_info": {
   "codemirror_mode": {
    "name": "ipython",
    "version": 3
   },
   "file_extension": ".py",
   "mimetype": "text/x-python",
   "name": "python",
   "nbconvert_exporter": "python",
   "pygments_lexer": "ipython3",
   "version": "3.8.8"
  }
 },
 "nbformat": 4,
 "nbformat_minor": 5
}

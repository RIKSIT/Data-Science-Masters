{
 "cells": [
  {
   "cell_type": "code",
   "execution_count": 1,
   "id": "a0cd241a",
   "metadata": {},
   "outputs": [
    {
     "name": "stdout",
     "output_type": "stream",
     "text": [
      "the tuple sorted by Runs:\n",
      "\r\n",
      "[('Virat Kohli', 24936), ('Jack Kallis', 25534), ('Ricky Ponting', 27483), ('Sachin Tendulkar', 34357)]\n"
     ]
    }
   ],
   "source": [
    "#Program to sort the given list based on integer values using a lambda function:\n",
    "tuple=[('Sachin Tendulkar',34357),('Ricky Ponting',27483),('Jack Kallis',25534),('Virat Kohli',24936)]\n",
    "print(\"the tuple sorted by Runs:\")\n",
    "print(\"\\r\")\n",
    "print(sorted(tuple,key=lambda i:i[1],reverse=False))"
   ]
  },
  {
   "cell_type": "code",
   "execution_count": 45,
   "id": "8bd0418b",
   "metadata": {},
   "outputs": [
    {
     "name": "stdout",
     "output_type": "stream",
     "text": [
      "[1, 2, 3, 4, 5, 6, 7, 8, 9, 10]\n"
     ]
    }
   ],
   "source": [
    "#Program to find the squares of all the numbers in the given list using lambda and map functions.\n",
    "l=[1,2,3,4,5,6,7,8,9,10]\n",
    "l1=(map(lambda x:x**2,l))\n",
    "print(l)"
   ]
  },
  {
   "cell_type": "code",
   "execution_count": 3,
   "id": "6a62d4fc",
   "metadata": {},
   "outputs": [],
   "source": [
    "#3.Write a program to convert the given list of integers into a tuple of strings.use map and lambda functions.\n",
    "\n",
    "l2=[1,2,3,4,5,6,7,8,9,10]\n",
    "a=tuple(map(lambda x : str(x) ,l2))"
   ]
  },
  {
   "cell_type": "code",
   "execution_count": 7,
   "id": "ca7d86ba",
   "metadata": {},
   "outputs": [
    {
     "data": {
      "text/plain": [
       "15511210043330985984000000"
      ]
     },
     "execution_count": 7,
     "metadata": {},
     "output_type": "execute_result"
    }
   ],
   "source": [
    "#4.Write a python program using reduce function to compute the product of a list containing numbers from 1 to25.\n",
    "from functools import reduce\n",
    "l=[1,2,3,4,5,6,7,8,9,10,11,12,13,14,15,16,17,18,19,20,21,22,23,24,25]\n",
    "reduce(lambda x,y:x*y,l)"
   ]
  },
  {
   "cell_type": "code",
   "execution_count": 56,
   "id": "17def51b",
   "metadata": {},
   "outputs": [
    {
     "name": "stdout",
     "output_type": "stream",
     "text": [
      "3 6 9 27 60 90 120\n"
     ]
    }
   ],
   "source": [
    "#5.Python program to filter the number in given list that are divisible by  2 and 3 using filter function.\n",
    "\n",
    "c=[2,3,6,9,27,60,90,120,55,46]\n",
    "b=filter(lambda x:x%3==0,c)\n",
    "print(*b)\n"
   ]
  },
  {
   "cell_type": "code",
   "execution_count": 27,
   "id": "d6a4e48b",
   "metadata": {},
   "outputs": [
    {
     "name": "stdout",
     "output_type": "stream",
     "text": [
      "2 6 60 90 120 46\n"
     ]
    }
   ],
   "source": [
    "list=[2,3,6,9,27,60,90,120,55,46]\n",
    "b=filter(lambda x:x%2==0,list)\n",
    "print(*b)"
   ]
  },
  {
   "cell_type": "code",
   "execution_count": 44,
   "id": "418fab27",
   "metadata": {},
   "outputs": [
    {
     "name": "stdout",
     "output_type": "stream",
     "text": [
      "Orginal list of strings:\n",
      "['Python', 'php', 'aba', 'radar', 'level']\n",
      "\n",
      "List of palindromes:\n",
      "php aba radar level\n"
     ]
    }
   ],
   "source": [
    "#6.Write a Python program to find the palindromes in the given list of strings using lambda and filter function.\n",
    "a=['Python','php','aba','radar','level']\n",
    "print(\"Orginal list of strings:\")\n",
    "print(a) \n",
    "result = filter(lambda x: (x == \"\".join(reversed(x))), a) \n",
    "print(\"\\nList of palindromes:\")\n",
    "print(*result) \n"
   ]
  },
  {
   "cell_type": "code",
   "execution_count": null,
   "id": "d1672a4d",
   "metadata": {},
   "outputs": [],
   "source": []
  }
 ],
 "metadata": {
  "kernelspec": {
   "display_name": "Python 3",
   "language": "python",
   "name": "python3"
  },
  "language_info": {
   "codemirror_mode": {
    "name": "ipython",
    "version": 3
   },
   "file_extension": ".py",
   "mimetype": "text/x-python",
   "name": "python",
   "nbconvert_exporter": "python",
   "pygments_lexer": "ipython3",
   "version": "3.8.8"
  }
 },
 "nbformat": 4,
 "nbformat_minor": 5
}
